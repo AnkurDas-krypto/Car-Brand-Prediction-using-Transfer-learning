{
 "cells": [
  {
   "cell_type": "code",
   "execution_count": 1,
   "id": "c6943d45",
   "metadata": {},
   "outputs": [],
   "source": [
    "from keras.preprocessing.image import ImageDataGenerator, array_to_img, img_to_array, load_img\n",
    "import os\n",
    "import cv2\n",
    "import matplotlib.pyplot as plt"
   ]
  },
  {
   "cell_type": "code",
   "execution_count": 2,
   "id": "81da5c6e",
   "metadata": {},
   "outputs": [],
   "source": [
    "train_datagen = ImageDataGenerator(\n",
    "        rotation_range=40,\n",
    "        width_shift_range=0.2,\n",
    "        height_shift_range=0.2,\n",
    "        rescale=1./255,\n",
    "        shear_range=0.2,\n",
    "        zoom_range=0.2,\n",
    "        horizontal_flip=True,\n",
    "        fill_mode='nearest')\n"
   ]
  },
  {
   "cell_type": "code",
   "execution_count": 3,
   "id": "35e675b6",
   "metadata": {},
   "outputs": [],
   "source": [
    "base_dir = r'C:\\Users\\User\\Desktop\\DL Projects\\Deep-Learning-Car-Brand-master\\train'"
   ]
  },
  {
   "cell_type": "code",
   "execution_count": 9,
   "id": "76e3afe7",
   "metadata": {},
   "outputs": [],
   "source": [
    "CATEGORIES = [\"bmw\", \"ferrari\", \"lamborghini\", \"porsche\"]\n",
    "for category in CATEGORIES:\n",
    "    path = os.path.join(base_dir, category)\n",
    "    for img in os.listdir(path):\n",
    "        img = load_img(os.path.join(path, img))  # this is a PIL image\n",
    "        x = img_to_array(img)  # this is a Numpy array with shape (3, 150, 150)\n",
    "        x = x.reshape((1,) + x.shape) \n",
    "        i = 0\n",
    "        for batch in train_datagen.flow(x, batch_size=1,\n",
    "                                  save_to_dir='cars_train', save_prefix= category , save_format='jpg'):\n",
    "            i += 1\n",
    "            if i > 10:\n",
    "                break  # otherwise the generator would loop indefinitely\n"
   ]
  },
  {
   "cell_type": "code",
   "execution_count": null,
   "id": "383c668c",
   "metadata": {},
   "outputs": [],
   "source": []
  },
  {
   "cell_type": "code",
   "execution_count": null,
   "id": "5fe8ee44",
   "metadata": {},
   "outputs": [],
   "source": []
  },
  {
   "cell_type": "code",
   "execution_count": null,
   "id": "184e9003",
   "metadata": {},
   "outputs": [],
   "source": []
  }
 ],
 "metadata": {
  "kernelspec": {
   "display_name": "Python 3",
   "language": "python",
   "name": "python3"
  },
  "language_info": {
   "codemirror_mode": {
    "name": "ipython",
    "version": 3
   },
   "file_extension": ".py",
   "mimetype": "text/x-python",
   "name": "python",
   "nbconvert_exporter": "python",
   "pygments_lexer": "ipython3",
   "version": "3.8.8"
  }
 },
 "nbformat": 4,
 "nbformat_minor": 5
}
